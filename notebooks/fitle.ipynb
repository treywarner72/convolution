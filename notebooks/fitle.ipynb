{
 "cells": [
  {
   "cell_type": "markdown",
   "id": "34ea57c6-e1d4-47eb-8328-9c0510842007",
   "metadata": {},
   "source": [
    "fitle is not a package anywhere so i just install it from github"
   ]
  },
  {
   "cell_type": "code",
   "execution_count": 4,
   "id": "aff274f2-4963-4075-81c0-35f033fd6a6c",
   "metadata": {},
   "outputs": [
    {
     "name": "stdout",
     "output_type": "stream",
     "text": [
      "Defaulting to user installation because normal site-packages is not writeable\n",
      "Collecting git+https://github.com/treywarner72/fitle.git\n",
      "  Cloning https://github.com/treywarner72/fitle.git to /tmp/pip-req-build-hn1wiwnb\n",
      "  Running command git clone --filter=blob:none --quiet https://github.com/treywarner72/fitle.git /tmp/pip-req-build-hn1wiwnb\n",
      "  Resolved https://github.com/treywarner72/fitle.git to commit 77bb12dc1aa722df8d279ae3263b8bdba164b552\n",
      "  Installing build dependencies ... \u001b[?25ldone\n",
      "\u001b[?25h  Getting requirements to build wheel ... \u001b[?25ldone\n",
      "\u001b[?25h  Preparing metadata (pyproject.toml) ... \u001b[?25ldone\n",
      "\u001b[?25hBuilding wheels for collected packages: fitle\n",
      "  Building wheel for fitle (pyproject.toml) ... \u001b[?25ldone\n",
      "\u001b[?25h  Created wheel for fitle: filename=fitle-0.1.0-py3-none-any.whl size=22210 sha256=7862274eff44ce9d210dea1e7b64f21f914de5c59fb95288b61ecef0436a9d37\n",
      "  Stored in directory: /tmp/pip-ephem-wheel-cache-43c42q0u/wheels/35/2e/10/d871181ff3184108c182e5d56480edda1be6b0bda0f4f22fb7\n",
      "Successfully built fitle\n",
      "Installing collected packages: fitle\n",
      "  Attempting uninstall: fitle\n",
      "    Found existing installation: fitle 0.1.0\n",
      "    Uninstalling fitle-0.1.0:\n",
      "      Successfully uninstalled fitle-0.1.0\n",
      "Successfully installed fitle-0.1.0\n"
     ]
    }
   ],
   "source": [
    "!pip3 install --no-deps --force-reinstall git+https://github.com/treywarner72/fitle.git"
   ]
  },
  {
   "cell_type": "code",
   "execution_count": null,
   "id": "c6f6540b-3891-4b95-b366-356e512403ab",
   "metadata": {},
   "outputs": [],
   "source": []
  }
 ],
 "metadata": {
  "kernelspec": {
   "display_name": "Python 3 (ipykernel)",
   "language": "python",
   "name": "python3"
  },
  "language_info": {
   "codemirror_mode": {
    "name": "ipython",
    "version": 3
   },
   "file_extension": ".py",
   "mimetype": "text/x-python",
   "name": "python",
   "nbconvert_exporter": "python",
   "pygments_lexer": "ipython3",
   "version": "3.8.18"
  }
 },
 "nbformat": 4,
 "nbformat_minor": 5
}
