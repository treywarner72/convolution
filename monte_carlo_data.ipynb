{
 "cells": [
  {
   "cell_type": "markdown",
   "id": "ecc378ac-7a12-4e94-b1a0-c079133d5a2f",
   "metadata": {},
   "source": [
    "# Monte Carlo Data\n",
    "The full monte carlo data is too large for this repository. This code converts the trees in `Dp_tree.root` and `Ds_tree.root` into histograms."
   ]
  },
  {
   "cell_type": "code",
   "execution_count": 3,
   "id": "555da762-bea8-4ca7-ac8a-a5bc89258ebc",
   "metadata": {},
   "outputs": [],
   "source": [
    "import uproot\n",
    "import awkward as ak\n",
    "import numpy as np\n",
    "import matplotlib.pyplot as plt\n",
    "import vector"
   ]
  },
  {
   "cell_type": "code",
   "execution_count": 4,
   "id": "fb319d01-1104-473f-94e9-f80cfd07cf8b",
   "metadata": {},
   "outputs": [],
   "source": [
    "Dp_tree=uproot.open(\"./data/Dp_tree.root\")['Truth'][\"t\"]\n",
    "\n",
    "Dp_ssK_TRUEP_E = np.asarray(Dp_tree[\"ssK_TRUEP_E\"])\n",
    "Dp_ssK_TRUEP_X = np.asarray(Dp_tree[\"ssK_TRUEP_X\"])\n",
    "Dp_ssK_TRUEP_Y = np.asarray(Dp_tree[\"ssK_TRUEP_Y\"])\n",
    "Dp_ssK_TRUEP_Z = np.asarray(Dp_tree[\"ssK_TRUEP_Z\"])\n",
    "\n",
    "Dp_osK_TRUEP_E = np.asarray(Dp_tree[\"osK_TRUEP_E\"])\n",
    "Dp_osK_TRUEP_X = np.asarray(Dp_tree[\"osK_TRUEP_X\"])\n",
    "Dp_osK_TRUEP_Y = np.asarray(Dp_tree[\"osK_TRUEP_Y\"])\n",
    "Dp_osK_TRUEP_Z = np.asarray(Dp_tree[\"osK_TRUEP_Z\"])\n",
    "\n",
    "Dp_sspi_TRUEP_E = np.asarray(Dp_tree[\"sspi_TRUEP_E\"])\n",
    "Dp_sspi_TRUEP_X = np.asarray(Dp_tree[\"sspi_TRUEP_X\"])\n",
    "Dp_sspi_TRUEP_Y = np.asarray(Dp_tree[\"sspi_TRUEP_Y\"])\n",
    "Dp_sspi_TRUEP_Z = np.asarray(Dp_tree[\"sspi_TRUEP_Z\"])\n",
    "\n",
    "Dp_ssK_vec   = vector.array({\"px\": Dp_ssK_TRUEP_X, \"py\":Dp_ssK_TRUEP_Y, \"pz\":Dp_ssK_TRUEP_Z, \"E\":Dp_ssK_TRUEP_E})\n",
    "Dp_osK_vec   = vector.array({\"px\": Dp_osK_TRUEP_X, \"py\":Dp_osK_TRUEP_Y, \"pz\":Dp_osK_TRUEP_Z, \"E\":Dp_osK_TRUEP_E})\n",
    "Dp_sspi_vec  = vector.array({\"px\": Dp_sspi_TRUEP_X, \"py\":Dp_sspi_TRUEP_Y, \"pz\":Dp_sspi_TRUEP_Z, \"E\":Dp_sspi_TRUEP_E})\n",
    "\n",
    "Dp_mother_vec = Dp_ssK_vec + Dp_osK_vec + Dp_sspi_vec\n",
    "Dp_mother_mass = Dp_mother_vec.mass"
   ]
  },
  {
   "cell_type": "code",
   "execution_count": 6,
   "id": "b58b2afc-1d3e-49fd-a1cc-9a0ae67950ed",
   "metadata": {},
   "outputs": [],
   "source": [
    "Ds_tree=uproot.open(\"./data/Ds_tree.root\")['Truth'][\"t\"]\n",
    "\n",
    "Ds_ssK_TRUEP_E = np.asarray(Ds_tree[\"ssK_TRUEP_E\"])\n",
    "Ds_ssK_TRUEP_X = np.asarray(Ds_tree[\"ssK_TRUEP_X\"])\n",
    "Ds_ssK_TRUEP_Y = np.asarray(Ds_tree[\"ssK_TRUEP_Y\"])\n",
    "Ds_ssK_TRUEP_Z = np.asarray(Ds_tree[\"ssK_TRUEP_Z\"])\n",
    "\n",
    "Ds_osK_TRUEP_E = np.asarray(Ds_tree[\"osK_TRUEP_E\"])\n",
    "Ds_osK_TRUEP_X = np.asarray(Ds_tree[\"osK_TRUEP_X\"])\n",
    "Ds_osK_TRUEP_Y = np.asarray(Ds_tree[\"osK_TRUEP_Y\"])\n",
    "Ds_osK_TRUEP_Z = np.asarray(Ds_tree[\"osK_TRUEP_Z\"])\n",
    "\n",
    "Ds_sspi_TRUEP_E = np.asarray(Ds_tree[\"sspi_TRUEP_E\"])\n",
    "Ds_sspi_TRUEP_X = np.asarray(Ds_tree[\"sspi_TRUEP_X\"])\n",
    "Ds_sspi_TRUEP_Y = np.asarray(Ds_tree[\"sspi_TRUEP_Y\"])\n",
    "Ds_sspi_TRUEP_Z = np.asarray(Ds_tree[\"sspi_TRUEP_Z\"])\n",
    "\n",
    "Ds_ssK_vec   = vector.array({\"px\": Ds_ssK_TRUEP_X, \"py\":Ds_ssK_TRUEP_Y, \"pz\":Ds_ssK_TRUEP_Z, \"E\":Ds_ssK_TRUEP_E})\n",
    "Ds_osK_vec   = vector.array({\"px\": Ds_osK_TRUEP_X, \"py\":Ds_osK_TRUEP_Y, \"pz\":Ds_osK_TRUEP_Z, \"E\":Ds_osK_TRUEP_E})\n",
    "Ds_sspi_vec  = vector.array({\"px\": Ds_sspi_TRUEP_X, \"py\":Ds_sspi_TRUEP_Y, \"pz\":Ds_sspi_TRUEP_Z, \"E\":Ds_sspi_TRUEP_E})\n",
    "\n",
    "Ds_mother_vec = Ds_ssK_vec + Ds_osK_vec + Ds_sspi_vec\n",
    "Ds_mother_mass = Ds_mother_vec.mass"
   ]
  },
  {
   "cell_type": "code",
   "execution_count": 7,
   "id": "05acdc72-0c28-4d37-b25f-8c3a16ac5f0b",
   "metadata": {},
   "outputs": [],
   "source": [
    "import fitlib"
   ]
  },
  {
   "cell_type": "code",
   "execution_count": 12,
   "id": "7f4e814b-1e64-4548-a5bb-6e4fe2b97ea0",
   "metadata": {},
   "outputs": [],
   "source": [
    "Dp_bins = fitlib.Convolution.tanh_bin(1200, 1750, np.max(Dp_mother_mass), 100, 0.0001)\n",
    "Dp_hist, Dp_bin_edges = np.histogram(Dp_mother_mass, bins=Dp_bins)\n",
    "Dp_bin_centers = (Dp_bin_edges[1:] + Dp_bin_edges[:-1])/2\n",
    "\n",
    "# Save the histogram data to a CSV file\n",
    "Dp_output_data = np.column_stack((Dp_bin_centers, Dp_hist))  # Pair each bin edge with its corresponding count\n",
    "np.savetxt(\"./data/Dp_histogram.csv\", Dp_output_data, delimiter=\",\", header=\"Bin_Center,Count\", comments=\"\")"
   ]
  },
  {
   "cell_type": "code",
   "execution_count": 13,
   "id": "f18209f0-7863-4128-9905-e1db3fb9bff7",
   "metadata": {},
   "outputs": [],
   "source": [
    "Ds_bins = fitlib.Convolution.tanh_bin(1200, 1750, np.max(Ds_mother_mass), 100, 0.0001)\n",
    "Ds_hist, Ds_bin_edges = np.histogram(Ds_mother_mass, bins=Ds_bins)\n",
    "Ds_bin_centers = (Ds_bin_edges[1:] + Ds_bin_edges[:-1])/2\n",
    "\n",
    "# Save the histogram data to a CSV file\n",
    "Ds_output_data = np.column_stack((Ds_bin_centers, Ds_hist))  # Pair each bin edge with its corresponding count\n",
    "np.savetxt(\"./data/Ds_histogram.csv\", Ds_output_data, delimiter=\",\", header=\"Bin_Center,Count\", comments=\"\")"
   ]
  },
  {
   "cell_type": "code",
   "execution_count": null,
   "id": "5a1605c2-0178-47e8-9d7c-b2536a3442dd",
   "metadata": {},
   "outputs": [],
   "source": []
  }
 ],
 "metadata": {
  "kernelspec": {
   "display_name": "Python 3 (ipykernel)",
   "language": "python",
   "name": "python3"
  },
  "language_info": {
   "codemirror_mode": {
    "name": "ipython",
    "version": 3
   },
   "file_extension": ".py",
   "mimetype": "text/x-python",
   "name": "python",
   "nbconvert_exporter": "python",
   "pygments_lexer": "ipython3",
   "version": "3.8.18"
  }
 },
 "nbformat": 4,
 "nbformat_minor": 5
}
