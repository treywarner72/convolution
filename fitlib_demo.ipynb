{
 "cells": [
  {
   "cell_type": "markdown",
   "id": "1d8d3424-0519-4cf1-9bfa-dde1c0270818",
   "metadata": {},
   "source": [
    "# Fitlib Demonstration\n",
    "\n",
    "This notebook demonstrates the functionality of `fitlib`, a flexible Python library for fitting data using probability density functions. \n",
    "\n",
    "---\n",
    "\n",
    "## Example 1\n",
    "\n",
    "As a first introduction, we will:\n",
    "\n",
    "1. Generate synthetic data.\n",
    "2. Use `Fitter` to create a histogram of the data.\n",
    "3. Fit a Gaussian distribution to the data.\n",
    "4. Visualize the histogram and the fit.\n",
    "5. Summarize the fitting results.\n",
    "\n",
    "---\n",
    "\n",
    "### Step 1: Import Necessary Modules\n",
    "Start by importing the necessary modules, including `fitlib`.\n"
   ]
  },
  {
   "cell_type": "code",
   "execution_count": 15,
   "id": "dda2b4d3-14cc-4a4c-b788-52d1d5b69318",
   "metadata": {},
   "outputs": [],
   "source": [
    "import numpy as np\n",
    "import matplotlib.pyplot as plt"
   ]
  },
  {
   "cell_type": "code",
   "execution_count": 16,
   "id": "2aec54c0-b279-4e58-a9b2-4f96e3fb734e",
   "metadata": {},
   "outputs": [
    {
     "name": "stdout",
     "output_type": "stream",
     "text": [
      "The autoreload extension is already loaded. To reload it, use:\n",
      "  %reload_ext autoreload\n"
     ]
    }
   ],
   "source": [
    "%load_ext autoreload\n",
    "%autoreload 2"
   ]
  },
  {
   "cell_type": "code",
   "execution_count": 17,
   "id": "373b5d01-88af-4228-8d7a-d62b326250a3",
   "metadata": {},
   "outputs": [],
   "source": [
    "import fitlib"
   ]
  },
  {
   "cell_type": "markdown",
   "id": "e487c517-f3bd-4620-a441-9d2afe4f0250",
   "metadata": {},
   "source": [
    "---\n",
    "\n",
    "## Step 2: Generate Synthetic Data\n",
    "For this demonstration, we generate synthetic data sampled from a Gaussian distribution."
   ]
  },
  {
   "cell_type": "code",
   "execution_count": 23,
   "id": "fea304c3-ee71-4248-9ed6-8c38beadc1b6",
   "metadata": {},
   "outputs": [],
   "source": [
    "mean, sigma = 0, 1\n",
    "data = np.random.normal(mean, sigma, 1000)"
   ]
  },
  {
   "cell_type": "markdown",
   "id": "fd22e823-bf33-4549-9be2-ca59c29d902d",
   "metadata": {},
   "source": [
    "---\n",
    "\n",
    "## Step 3: Create a Fitter Instance\n",
    "Create a `Fitter` instance to manage the data and the fitting process. We will perform a binned $\\chi^2$ minimization fit, so we generated a binned fitter with 30 bins.\n",
    "\n"
   ]
  },
  {
   "cell_type": "code",
   "execution_count": 26,
   "id": "3b2d3d1a-8d0e-406d-be18-21409d5ca6f8",
   "metadata": {},
   "outputs": [
    {
     "data": {
      "image/png": "[encoded data removed]",
      "text/plain": [
       "<Figure size 640x480 with 1 Axes>"
      ]
     },
     "metadata": {},
     "output_type": "display_data"
    }
   ],
   "source": [
    "fit = fitlib.Fitter.binned(data,30)\n",
    "fit.plot_data()\n",
    "plt.title(\"Binned Data\")\n",
    "plt.xlabel(\"X\")\n",
    "plt.ylabel(\"Entries per bin\")\n",
    "plt.show()"
   ]
  },
  {
   "cell_type": "markdown",
   "id": "bf9fdb91-4a13-4c72-9bf1-5ececeb2b1ae",
   "metadata": {},
   "source": [
    "---\n",
    "\n",
    "## Step 4: Define a PDF\n",
    "Define a Gaussian PDF and assign it to the fitter. Limits are not necessary for this fit, but are added for demonstration."
   ]
  },
  {
   "cell_type": "code",
   "execution_count": 35,
   "id": "414837f0-ce15-44b5-92e7-066fe09f0d25",
   "metadata": {},
   "outputs": [],
   "source": [
    "fit.pdf = [\n",
    "    fitlib.Normal(\n",
    "        n=(100, 500, 1500), # (lower limit, starting value, upper limit)\n",
    "        mu=(-1, 1), # (lower limit, upper limit)\n",
    "        sigma=(0.5, np.inf)\n",
    "    )\n",
    "]"
   ]
  },
  {
   "cell_type": "markdown",
   "id": "42c98d50-d0d5-4388-86a7-b34ae9f4a5dd",
   "metadata": {},
   "source": [
    "---\n",
    "\n",
    "## Step 5: Perform the Fit\n",
    "Use the `chi2` method to perform a chi-squared minimization fit."
   ]
  },
  {
   "cell_type": "code",
   "execution_count": 36,
   "id": "8e51549a-05a5-4184-b1c1-cd7342562ddc",
   "metadata": {},
   "outputs": [
    {
     "data": {
      "text/html": [
       "<table>\n",
       "    <tr>\n",
       "        <th colspan=\"2\" style=\"text-align:center\" title=\"Minimizer\"> Migrad </th>\n",
       "    </tr>\n",
       "    <tr>\n",
       "        <td style=\"text-align:left\" title=\"Minimum value of function\"> FCN = 21.57 </td>\n",
       "        <td style=\"text-align:center\" title=\"Total number of function and (optional) gradient evaluations\"> Nfcn = 99 </td>\n",
       "    </tr>\n",
       "    <tr>\n",
       "        <td style=\"text-align:left\" title=\"Estimated distance to minimum and goal\"> EDM = 1.23e-05 (Goal: 0.0002) </td>\n",
       "        <td style=\"text-align:center\" title=\"Total run time of algorithms\">  </td>\n",
       "    </tr>\n",
       "    <tr>\n",
       "        <td style=\"text-align:center;background-color:#92CCA6;color:black\"> Valid Minimum </td>\n",
       "        <td style=\"text-align:center;background-color:#92CCA6;color:black\"> Below EDM threshold (goal x 10) </td>\n",
       "    </tr>\n",
       "    <tr>\n",
       "        <td style=\"text-align:center;background-color:#92CCA6;color:black\"> No parameters at limit </td>\n",
       "        <td style=\"text-align:center;background-color:#92CCA6;color:black\"> Below call limit </td>\n",
       "    </tr>\n",
       "    <tr>\n",
       "        <td style=\"text-align:center;background-color:#92CCA6;color:black\"> Hesse ok </td>\n",
       "        <td style=\"text-align:center;background-color:#92CCA6;color:black\"> Covariance accurate </td>\n",
       "    </tr>\n",
       "</table><table>\n",
       "    <tr>\n",
       "        <td></td>\n",
       "        <th title=\"Variable name\"> Name </th>\n",
       "        <th title=\"Value of parameter\"> Value </th>\n",
       "        <th title=\"Hesse error\"> Hesse Error </th>\n",
       "        <th title=\"Minos lower error\"> Minos Error- </th>\n",
       "        <th title=\"Minos upper error\"> Minos Error+ </th>\n",
       "        <th title=\"Lower limit of the parameter\"> Limit- </th>\n",
       "        <th title=\"Upper limit of the parameter\"> Limit+ </th>\n",
       "        <th title=\"Is the parameter fixed in the fit\"> Fixed </th>\n",
       "    </tr>\n",
       "    <tr>\n",
       "        <th> 0 </th>\n",
       "        <td> x0 </td>\n",
       "        <td> 978 </td>\n",
       "        <td> 31 </td>\n",
       "        <td>  </td>\n",
       "        <td>  </td>\n",
       "        <td> 100 </td>\n",
       "        <td> 1.5E+03 </td>\n",
       "        <td>  </td>\n",
       "    </tr>\n",
       "    <tr>\n",
       "        <th> 1 </th>\n",
       "        <td> x1 </td>\n",
       "        <td> 0.009 </td>\n",
       "        <td> 0.030 </td>\n",
       "        <td>  </td>\n",
       "        <td>  </td>\n",
       "        <td> -1 </td>\n",
       "        <td> 1 </td>\n",
       "        <td>  </td>\n",
       "    </tr>\n",
       "    <tr>\n",
       "        <th> 2 </th>\n",
       "        <td> x2 </td>\n",
       "        <td> 0.924 </td>\n",
       "        <td> 0.023 </td>\n",
       "        <td>  </td>\n",
       "        <td>  </td>\n",
       "        <td> 0.5 </td>\n",
       "        <td>  </td>\n",
       "        <td>  </td>\n",
       "    </tr>\n",
       "</table><table>\n",
       "    <tr>\n",
       "        <td></td>\n",
       "        <th> x0 </th>\n",
       "        <th> x1 </th>\n",
       "        <th> x2 </th>\n",
       "    </tr>\n",
       "    <tr>\n",
       "        <th> x0 </th>\n",
       "        <td> 980 </td>\n",
       "        <td style=\"background-color:rgb(250,249,249);color:black\"> 3.2e-3 </td>\n",
       "        <td style=\"background-color:rgb(250,248,248);color:black\"> 9.8e-3 <strong>(0.013)</strong> </td>\n",
       "    </tr>\n",
       "    <tr>\n",
       "        <th> x1 </th>\n",
       "        <td style=\"background-color:rgb(250,249,249);color:black\"> 3.2e-3 </td>\n",
       "        <td> 0.000902 </td>\n",
       "        <td style=\"background-color:rgb(250,232,232);color:black\"> 0.1e-3 <strong>(0.119)</strong> </td>\n",
       "    </tr>\n",
       "    <tr>\n",
       "        <th> x2 </th>\n",
       "        <td style=\"background-color:rgb(250,248,248);color:black\"> 9.8e-3 <strong>(0.013)</strong> </td>\n",
       "        <td style=\"background-color:rgb(250,232,232);color:black\"> 0.1e-3 <strong>(0.119)</strong> </td>\n",
       "        <td> 0.000555 </td>\n",
       "    </tr>\n",
       "</table>"
      ],
      "text/plain": [
       "┌─────────────────────────────────────────────────────────────────────────┐\n",
       "│                                Migrad                                   │\n",
       "├──────────────────────────────────┬──────────────────────────────────────┤\n",
       "│ FCN = 21.57                      │              Nfcn = 99               │\n",
       "│ EDM = 1.23e-05 (Goal: 0.0002)    │                                      │\n",
       "├──────────────────────────────────┼──────────────────────────────────────┤\n",
       "│          Valid Minimum           │   Below EDM threshold (goal x 10)    │\n",
       "├──────────────────────────────────┼──────────────────────────────────────┤\n",
       "│      No parameters at limit      │           Below call limit           │\n",
       "├──────────────────────────────────┼──────────────────────────────────────┤\n",
       "│             Hesse ok             │         Covariance accurate          │\n",
       "└──────────────────────────────────┴──────────────────────────────────────┘\n",
       "┌───┬──────┬───────────┬───────────┬────────────┬────────────┬─────────┬─────────┬───────┐\n",
       "│   │ Name │   Value   │ Hesse Err │ Minos Err- │ Minos Err+ │ Limit-  │ Limit+  │ Fixed │\n",
       "├───┼──────┼───────────┼───────────┼────────────┼────────────┼─────────┼─────────┼───────┤\n",
       "│ 0 │ x0   │    978    │    31     │            │            │   100   │  1500   │       │\n",
       "│ 1 │ x1   │   0.009   │   0.030   │            │            │   -1    │    1    │       │\n",
       "│ 2 │ x2   │   0.924   │   0.023   │            │            │   0.5   │         │       │\n",
       "└───┴──────┴───────────┴───────────┴────────────┴────────────┴─────────┴─────────┴───────┘\n",
       "┌────┬────────────────────────────┐\n",
       "│    │       x0       x1       x2 │\n",
       "├────┼────────────────────────────┤\n",
       "│ x0 │      980   3.2e-3   9.8e-3 │\n",
       "│ x1 │   3.2e-3 0.000902   0.1e-3 │\n",
       "│ x2 │   9.8e-3   0.1e-3 0.000555 │\n",
       "└────┴────────────────────────────┘"
      ]
     },
     "execution_count": 36,
     "metadata": {},
     "output_type": "execute_result"
    }
   ],
   "source": [
    "# returns the iminuit minimizer object\n",
    "fit.chi2()"
   ]
  },
  {
   "cell_type": "markdown",
   "id": "8d0433fd-deb2-4d2e-93d5-9adac4b0a0c2",
   "metadata": {},
   "source": [
    "We may view the results in this table too, where names are taken from the pdf function"
   ]
  },
  {
   "cell_type": "code",
   "execution_count": 37,
   "id": "9c57ed64-fb79-4c2b-a8e5-e19a291830a5",
   "metadata": {},
   "outputs": [
    {
     "name": "stdout",
     "output_type": "stream",
     "text": [
      "Component 1\n",
      "| Parameter   |        Value |      Error |\n",
      "|-------------|--------------|------------|\n",
      "| n           | 977.923      | 31.2864    |\n",
      "| mu          |   0.00902066 |  0.0300268 |\n",
      "| sigma       |   0.924143   |  0.0235465 |\n",
      "\n"
     ]
    }
   ],
   "source": [
    "fit.summary()"
   ]
  },
  {
   "cell_type": "markdown",
   "id": "cbe53c23-c2e5-4129-96fc-c2dfe936d1df",
   "metadata": {},
   "source": [
    "---\n",
    "\n",
    "## Step 6: Visualize the Fit\n",
    "Overlay the fitted PDF on the binned data."
   ]
  },
  {
   "cell_type": "code",
   "execution_count": 39,
   "id": "eca0ff2d-7b9d-4ff7-9079-f05b104d87ec",
   "metadata": {},
   "outputs": [
    {
     "data": {
      "image/png": "[encoded data removed]",
      "text/plain": [
       "<Figure size 640x480 with 1 Axes>"
      ]
     },
     "metadata": {},
     "output_type": "display_data"
    }
   ],
   "source": [
    "# Plot the fit alongside the data\n",
    "fit.plot_data()\n",
    "fit.plot_fit()\n",
    "plt.title(\"Fit Results\")\n",
    "plt.xlabel(\"X\")\n",
    "plt.ylabel(\"Counts\")\n",
    "plt.grid(True)\n",
    "plt.show()"
   ]
  },
  {
   "cell_type": "markdown",
   "id": "fec36aa0-5cc2-4e4d-adb6-2eee8b4712ce",
   "metadata": {},
   "source": [
    "## Example 2\n",
    "\n",
    "This example will showcase more complex methods"
   ]
  },
  {
   "cell_type": "code",
   "execution_count": null,
   "id": "b8898d2f-3756-47bb-8e79-12ff64f92f76",
   "metadata": {},
   "outputs": [],
   "source": []
  }
 ],
 "metadata": {
  "kernelspec": {
   "display_name": "Python 3 (ipykernel)",
   "language": "python",
   "name": "python3"
  },
  "language_info": {
   "codemirror_mode": {
    "name": "ipython",
    "version": 3
   },
   "file_extension": ".py",
   "mimetype": "text/x-python",
   "name": "python",
   "nbconvert_exporter": "python",
   "pygments_lexer": "ipython3",
   "version": "3.8.18"
  }
 },
 "nbformat": 4,
 "nbformat_minor": 5
}
