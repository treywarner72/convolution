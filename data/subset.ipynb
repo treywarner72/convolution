{
 "cells": [
  {
   "cell_type": "code",
   "execution_count": 3,
   "id": "123b373c-4a3d-4332-911e-6d78060798b5",
   "metadata": {},
   "outputs": [],
   "source": [
    "import uproot\n",
    "\n",
    "file = uproot.open(\"kpp_tree.root\")\n",
    "truth_dir = file.get(\"Truth\")\n",
    "tree = truth_dir.get(\"t\")"
   ]
  },
  {
   "cell_type": "code",
   "execution_count": 4,
   "id": "fa2771d6-36c3-406e-b392-f245d73541a9",
   "metadata": {},
   "outputs": [
    {
     "data": {
      "text/plain": [
       "10000000"
      ]
     },
     "execution_count": 4,
     "metadata": {},
     "output_type": "execute_result"
    }
   ],
   "source": [
    "tree.num_entries"
   ]
  },
  {
   "cell_type": "code",
   "execution_count": 5,
   "id": "1c0adcf7-3fc3-4818-87a8-7b9e0d607b41",
   "metadata": {},
   "outputs": [
    {
     "name": "stderr",
     "output_type": "stream",
     "text": [
      "IOPub data rate exceeded.\n",
      "The Jupyter server will temporarily stop sending output\n",
      "to the client in order to avoid crashing it.\n",
      "To change this limit, set the config variable\n",
      "`--ServerApp.iopub_data_rate_limit`.\n",
      "\n",
      "Current values:\n",
      "ServerApp.iopub_data_rate_limit=1000000.0 (bytes/sec)\n",
      "ServerApp.rate_limit_window=3.0 (secs)\n",
      "\n"
     ]
    },
    {
     "name": "stdout",
     "output_type": "stream",
     "text": [
      "Subset of the tree has been saved to 'subset.root'.\n"
     ]
    }
   ],
   "source": [
    "import awkward as ak\n",
    "subset = tree.arrays(library=\"ak\", entry_stop=200000)\n",
    "print(ak.to_list(subset)) \n",
    "\n",
    "with uproot.recreate(\"kpp_subset.root\") as new_file:\n",
    "    new_file[\"t\"] = subset\n",
    "\n",
    "print(\"Subset of the tree has been saved to 'subset.root'.\")"
   ]
  },
  {
   "cell_type": "code",
   "execution_count": null,
   "id": "14870d53-5eb2-4341-aaf3-db7d9b3078d3",
   "metadata": {},
   "outputs": [],
   "source": []
  }
 ],
 "metadata": {
  "kernelspec": {
   "display_name": "Python 3 (ipykernel)",
   "language": "python",
   "name": "python3"
  },
  "language_info": {
   "codemirror_mode": {
    "name": "ipython",
    "version": 3
   },
   "file_extension": ".py",
   "mimetype": "text/x-python",
   "name": "python",
   "nbconvert_exporter": "python",
   "pygments_lexer": "ipython3",
   "version": "3.8.18"
  }
 },
 "nbformat": 4,
 "nbformat_minor": 5
}
